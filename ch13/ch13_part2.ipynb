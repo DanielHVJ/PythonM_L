{
 "cells": [
  {
   "cell_type": "markdown",
   "metadata": {},
   "source": [
    "*Python Machine Learning 3rd Edition* by [Sebastian Raschka](https://sebastianraschka.com) & [Vahid Mirjalili](http://vahidmirjalili.com), Packt Publishing Ltd. 2019\n",
    "\n",
    "Code Repository: https://github.com/rasbt/python-machine-learning-book-3rd-edition\n",
    "\n",
    "Code License: [MIT License](https://github.com/rasbt/python-machine-learning-book-3rd-edition/blob/master/LICENSE.txt)"
   ]
  },
  {
   "cell_type": "markdown",
   "metadata": {},
   "source": [
    "# Chapter 13: Parallelizing Neural Network Training with TensorFlow  (Part 2/2)\n"
   ]
  },
  {
   "cell_type": "markdown",
   "metadata": {},
   "source": [
    "Note that the optional watermark extension is a small IPython notebook plugin that I developed to make the code reproducible. You can just skip the following line(s)."
   ]
  },
  {
   "cell_type": "markdown",
   "metadata": {},
   "source": [
    "## Building a neural network model in TensorFlow"
   ]
  },
  {
   "cell_type": "markdown",
   "metadata": {},
   "source": [
    "### The TensorFlow Keras API (tf.keras)"
   ]
  },
  {
   "cell_type": "markdown",
   "metadata": {},
   "source": [
    "### Building a linear regression model"
   ]
  },
  {
   "cell_type": "code",
   "execution_count": 1,
   "metadata": {},
   "outputs": [],
   "source": [
    "import tensorflow as tf\n",
    "import numpy as np\n",
    "\n",
    "import matplotlib.pyplot as plt\n",
    "%matplotlib inline"
   ]
  },
  {
   "cell_type": "code",
   "execution_count": 6,
   "metadata": {},
   "outputs": [
    {
     "data": {
      "image/png": "[encoded data removed]",
      "text/plain": [
       "<Figure size 432x288 with 1 Axes>"
      ]
     },
     "metadata": {
      "needs_background": "light"
     },
     "output_type": "display_data"
    }
   ],
   "source": [
    "X_train = np.arange(20).reshape((20, 1))\n",
    "y_train = np.array([1.0, 1.3, 1.5, 2.3, 3.1,\n",
    "                    3.4, 4.5, 5.0, 5.7, 6.3,\n",
    "                    6.6, 7.2, 7.6, 8.0, 8.5,\n",
    "                    9.0, 9.3, 9.9, 10.9, 11.2])\n",
    "\n",
    "\n",
    "plt.plot(X_train, y_train, 'o', markersize=10)\n",
    "plt.xlabel('x')\n",
    "plt.ylabel('y')\n",
    "plt.show()"
   ]
  },
  {
   "cell_type": "code",
   "execution_count": 7,
   "metadata": {},
   "outputs": [],
   "source": [
    "X_train_norm = (X_train - np.mean(X_train))/np.std(X_train)\n",
    "\n",
    "ds_train_orig = tf.data.Dataset.from_tensor_slices(\n",
    "    (tf.cast(X_train_norm, tf.float32),\n",
    "     tf.cast(y_train, tf.float32)))"
   ]
  },
  {
   "cell_type": "code",
   "execution_count": 48,
   "metadata": {},
   "outputs": [
    {
     "name": "stdout",
     "output_type": "stream",
     "text": [
      "Model: \"model_4\"\n",
      "_________________________________________________________________\n",
      "Layer (type)                 Output Shape              Param #   \n",
      "=================================================================\n",
      "Total params: 2\n",
      "Trainable params: 2\n",
      "Non-trainable params: 0\n",
      "_________________________________________________________________\n"
     ]
    }
   ],
   "source": [
    "class Model(tf.keras.Model):\n",
    "    def __init__(self):\n",
    "        super(Model, self).__init__()\n",
    "        self.w = tf.Variable(0.0, name='weight')\n",
    "        self.b = tf.Variable(0.0, name='bias')\n",
    "\n",
    "    def call(self, x):\n",
    "        return self.w*x + self.b\n",
    "\n",
    "\n",
    "model = Model()\n",
    "\n",
    "model.build(input_shape=(None, 1))\n",
    "model.summary()"
   ]
  },
  {
   "cell_type": "code",
   "execution_count": 20,
   "metadata": {},
   "outputs": [
    {
     "data": {
      "text/plain": [
       "<tf.Tensor: shape=(), dtype=float32, numpy=0.67500037>"
      ]
     },
     "execution_count": 20,
     "metadata": {},
     "output_type": "execute_result"
    }
   ],
   "source": [
    "## Mean squared error\n",
    "def loss_fun(y_true, y_pred):\n",
    "    return tf.reduce_mean(tf.square(y_true - y_pred))\n",
    "\n",
    "\n",
    "## testing the function:\n",
    "yt = tf.convert_to_tensor([1.0, 5.3, 5.8, 6.2])\n",
    "yp = tf.convert_to_tensor([1.2, 4.2, 4.6, 6.1])\n",
    "\n",
    "loss_fun(yt, yp)"
   ]
  },
  {
   "cell_type": "code",
   "execution_count": 49,
   "metadata": {},
   "outputs": [],
   "source": [
    "## GRadient descent \n",
    "\n",
    "def train(model, inputs, outputs, learning_rate):\n",
    "    with tf.GradientTape() as tape:\n",
    "        current_loss = loss_fun(model(inputs), outputs)\n",
    "    dW, db = tape.gradient(current_loss, [model.w, model.b])\n",
    "    model.w.assign_sub(learning_rate * dW)\n",
    "    model.b.assign_sub(learning_rate * db)"
   ]
  },
  {
   "cell_type": "code",
   "execution_count": 33,
   "metadata": {},
   "outputs": [
    {
     "data": {
      "text/plain": [
       "<BatchDataset shapes: ((None, 1), (None,)), types: (tf.float32, tf.float32)>"
      ]
     },
     "execution_count": 33,
     "metadata": {},
     "output_type": "execute_result"
    }
   ],
   "source": [
    "steps_per_epoch\n",
    "\n",
    "ds_train"
   ]
  },
  {
   "cell_type": "code",
   "execution_count": 50,
   "metadata": {},
   "outputs": [
    {
     "name": "stdout",
     "output_type": "stream",
     "text": [
      "Epoch    0 Step  0 Loss 20.2500\n",
      "Epoch    5 Step 100 Loss 3.3699\n",
      "Epoch   10 Step 200 Loss 0.4869\n",
      "Epoch   15 Step 300 Loss 13.7909\n",
      "Epoch   20 Step 400 Loss 15.7436\n",
      "Epoch   25 Step 500 Loss 10.4096\n",
      "Epoch   30 Step 600 Loss 10.8084\n",
      "Epoch   35 Step 700 Loss 0.5739\n",
      "Epoch   40 Step 800 Loss 2.7224\n",
      "Epoch   45 Step 900 Loss 1.7868\n",
      "Epoch   50 Step 1000 Loss 1.1671\n",
      "Epoch   55 Step 1100 Loss 0.9790\n",
      "Epoch   60 Step 1200 Loss 0.6216\n",
      "Epoch   65 Step 1300 Loss 0.0218\n",
      "Epoch   70 Step 1400 Loss 0.0182\n",
      "Epoch   75 Step 1500 Loss 0.1084\n",
      "Epoch   80 Step 1600 Loss 0.0612\n",
      "Epoch   85 Step 1700 Loss 0.3373\n",
      "Epoch   90 Step 1800 Loss 0.0367\n",
      "Epoch   95 Step 1900 Loss 0.0099\n",
      "Epoch  100 Step 2000 Loss 0.2283\n",
      "Epoch  105 Step 2100 Loss 0.0941\n",
      "Epoch  110 Step 2200 Loss 0.1221\n",
      "Epoch  115 Step 2300 Loss 0.0456\n",
      "Epoch  120 Step 2400 Loss 0.0538\n",
      "Epoch  125 Step 2500 Loss 0.1066\n",
      "Epoch  130 Step 2600 Loss 0.0387\n",
      "Epoch  135 Step 2700 Loss 0.0346\n",
      "Epoch  140 Step 2800 Loss 0.0045\n",
      "Epoch  145 Step 2900 Loss 0.0595\n",
      "Epoch  150 Step 3000 Loss 0.0065\n",
      "Epoch  155 Step 3100 Loss 0.0682\n",
      "Epoch  160 Step 3200 Loss 0.0000\n",
      "Epoch  165 Step 3300 Loss 0.0064\n",
      "Epoch  170 Step 3400 Loss 0.0669\n",
      "Epoch  175 Step 3500 Loss 0.0156\n",
      "Epoch  180 Step 3600 Loss 0.0214\n",
      "Epoch  185 Step 3700 Loss 0.0955\n",
      "Epoch  190 Step 3800 Loss 0.0000\n",
      "Epoch  195 Step 3900 Loss 0.0006\n"
     ]
    }
   ],
   "source": [
    "tf.random.set_seed(1)\n",
    "\n",
    "num_epochs = 200\n",
    "log_steps = 100\n",
    "learning_rate = 0.001\n",
    "batch_size = 1\n",
    "steps_per_epoch = int(np.ceil(len(y_train) / batch_size))\n",
    "\n",
    "ds_train = ds_train_orig.shuffle(buffer_size=len(y_train))\n",
    "ds_train = ds_train.repeat(count=None)\n",
    "ds_train = ds_train.batch(1)\n",
    "\n",
    "Ws, bs = [], []\n",
    "\n",
    "for i, batch in enumerate(ds_train):\n",
    "    if i >= steps_per_epoch * num_epochs:\n",
    "        break\n",
    "    Ws.append(model.w.numpy())\n",
    "    bs.append(model.b.numpy())\n",
    "\n",
    "    bx, by = batch\n",
    "    loss_val = loss_fun(model(bx), by)\n",
    "\n",
    "    train(model, bx, by, learning_rate=learning_rate)\n",
    "    if i%log_steps==0:\n",
    "        print('Epoch {:4d} Step {:2d} Loss {:6.4f}'.format(\n",
    "              int(i/steps_per_epoch), i, loss_val))"
   ]
  },
  {
   "cell_type": "code",
   "execution_count": 51,
   "metadata": {},
   "outputs": [
    {
     "name": "stdout",
     "output_type": "stream",
     "text": [
      "Final Parameters: 3.1513522 6.11285\n"
     ]
    },
    {
     "data": {
      "image/png": "[encoded data removed]",
      "text/plain": [
       "<Figure size 936x360 with 2 Axes>"
      ]
     },
     "metadata": {
      "needs_background": "light"
     },
     "output_type": "display_data"
    }
   ],
   "source": [
    "print('Final Parameters:', model.w.numpy(), model.b.numpy())\n",
    "\n",
    "\n",
    "X_test = np.linspace(0, 19, num=100).reshape(-1, 1)\n",
    "X_test_norm = (X_test - np.mean(X_train)) / np.std(X_train)\n",
    "\n",
    "y_pred = model(tf.cast(X_test_norm, dtype=tf.float32))\n",
    "\n",
    "\n",
    "fig = plt.figure(figsize=(13, 5))\n",
    "ax = fig.add_subplot(1, 2, 1)\n",
    "plt.plot(X_train_norm, y_train, 'o', markersize=10)\n",
    "plt.plot(X_test_norm, y_pred, '--', lw=3)\n",
    "plt.legend(['Training examples', 'Linear Reg.'], fontsize=15)\n",
    "ax.set_xlabel('x', size=12)\n",
    "ax.set_ylabel('y', size=12)\n",
    "ax.tick_params(axis='both', which='major', labelsize=12)\n",
    "\n",
    "ax = fig.add_subplot(1, 2, 2)\n",
    "plt.plot(Ws, lw=3)\n",
    "plt.plot(bs, lw=3)\n",
    "plt.legend(['Weight w', 'Bias unit b'], fontsize=12)\n",
    "ax.set_xlabel('Iteration', size=12)\n",
    "ax.set_ylabel('Value', size=12)\n",
    "ax.tick_params(axis='both', which='major', labelsize=12)\n",
    "\n",
    "plt.show()"
   ]
  },
  {
   "cell_type": "markdown",
   "metadata": {},
   "source": [
    "### Model training via the .compile() and .fit() methods"
   ]
  },
  {
   "cell_type": "code",
   "execution_count": 53,
   "metadata": {},
   "outputs": [],
   "source": [
    "tf.random.set_seed(1)\n",
    "\n",
    "model = Model()\n",
    "#model.build((None, 1))\n",
    "\n",
    "model.compile(optimizer='sgd', \n",
    "              loss=loss_fun,\n",
    "              metrics=['mae', 'mse'])"
   ]
  },
  {
   "cell_type": "code",
   "execution_count": 54,
   "metadata": {},
   "outputs": [
    {
     "name": "stdout",
     "output_type": "stream",
     "text": [
      "Epoch 1/200\n",
      "20/20 [==============================] - 0s 4ms/step - loss: 33.8148 - mae: 5.1095 - mse: 33.8148\n",
      "Epoch 2/200\n",
      "20/20 [==============================] - 0s 2ms/step - loss: 14.9880 - mae: 3.4199 - mse: 14.9880\n",
      "Epoch 3/200\n",
      "20/20 [==============================] - 0s 2ms/step - loss: 6.6632 - mae: 2.2532 - mse: 6.6632\n",
      "Epoch 4/200\n",
      "20/20 [==============================] - 0s 2ms/step - loss: 2.9873 - mae: 1.5134 - mse: 2.9873\n",
      "Epoch 5/200\n",
      "20/20 [==============================] - 0s 2ms/step - loss: 1.3565 - mae: 1.0269 - mse: 1.3565\n",
      "Epoch 6/200\n",
      "20/20 [==============================] - 0s 2ms/step - loss: 0.6357 - mae: 0.6973 - mse: 0.6357\n",
      "Epoch 7/200\n",
      "20/20 [==============================] - 0s 2ms/step - loss: 0.3189 - mae: 0.4992 - mse: 0.3189\n",
      "Epoch 8/200\n",
      "20/20 [==============================] - 0s 2ms/step - loss: 0.1775 - mae: 0.3672 - mse: 0.1775\n",
      "Epoch 9/200\n",
      "20/20 [==============================] - 0s 2ms/step - loss: 0.1181 - mae: 0.2905 - mse: 0.1181\n",
      "Epoch 10/200\n",
      "20/20 [==============================] - 0s 2ms/step - loss: 0.0924 - mae: 0.2572 - mse: 0.0924\n",
      "Epoch 11/200\n",
      "20/20 [==============================] - 0s 2ms/step - loss: 0.0807 - mae: 0.2379 - mse: 0.0807\n",
      "Epoch 12/200\n",
      "20/20 [==============================] - 0s 2ms/step - loss: 0.0757 - mae: 0.2245 - mse: 0.0757\n",
      "Epoch 13/200\n",
      "20/20 [==============================] - 0s 2ms/step - loss: 0.0729 - mae: 0.2255 - mse: 0.0729\n",
      "Epoch 14/200\n",
      "20/20 [==============================] - 0s 2ms/step - loss: 0.0720 - mae: 0.2255 - mse: 0.0720\n",
      "Epoch 15/200\n",
      "20/20 [==============================] - 0s 2ms/step - loss: 0.0715 - mae: 0.2267 - mse: 0.0715\n",
      "Epoch 16/200\n",
      "20/20 [==============================] - 0s 2ms/step - loss: 0.0715 - mae: 0.2246 - mse: 0.0715\n",
      "Epoch 17/200\n",
      "20/20 [==============================] - 0s 4ms/step - loss: 0.0713 - mae: 0.2281 - mse: 0.0713\n",
      "Epoch 18/200\n",
      "20/20 [==============================] - 0s 2ms/step - loss: 0.0714 - mae: 0.2248 - mse: 0.0714\n",
      "Epoch 19/200\n",
      "20/20 [==============================] - 0s 2ms/step - loss: 0.0712 - mae: 0.2258 - mse: 0.0712\n",
      "Epoch 20/200\n",
      "20/20 [==============================] - 0s 2ms/step - loss: 0.0713 - mae: 0.2268 - mse: 0.0713\n",
      "Epoch 21/200\n",
      "20/20 [==============================] - 0s 2ms/step - loss: 0.0713 - mae: 0.2245 - mse: 0.0713\n",
      "Epoch 22/200\n",
      "20/20 [==============================] - 0s 2ms/step - loss: 0.0713 - mae: 0.2277 - mse: 0.0713\n",
      "Epoch 23/200\n",
      "20/20 [==============================] - 0s 2ms/step - loss: 0.0713 - mae: 0.2265 - mse: 0.0713    \n",
      "Epoch 24/200\n",
      "20/20 [==============================] - 0s 2ms/step - loss: 0.0713 - mae: 0.2293 - mse: 0.0713\n",
      "Epoch 25/200\n",
      "20/20 [==============================] - 0s 2ms/step - loss: 0.0711 - mae: 0.2250 - mse: 0.0711\n",
      "Epoch 26/200\n",
      "20/20 [==============================] - 0s 2ms/step - loss: 0.0713 - mae: 0.2251 - mse: 0.0713\n",
      "Epoch 27/200\n",
      "20/20 [==============================] - 0s 2ms/step - loss: 0.0710 - mae: 0.2244 - mse: 0.0710\n",
      "Epoch 28/200\n",
      "20/20 [==============================] - 0s 2ms/step - loss: 0.0711 - mae: 0.2255 - mse: 0.0711\n",
      "Epoch 29/200\n",
      "20/20 [==============================] - 0s 2ms/step - loss: 0.0712 - mae: 0.2263 - mse: 0.0712\n",
      "Epoch 30/200\n",
      "20/20 [==============================] - 0s 2ms/step - loss: 0.0712 - mae: 0.2254 - mse: 0.0712\n",
      "Epoch 31/200\n",
      "20/20 [==============================] - 0s 2ms/step - loss: 0.0713 - mae: 0.2286 - mse: 0.0713\n",
      "Epoch 32/200\n",
      "20/20 [==============================] - 0s 2ms/step - loss: 0.0713 - mae: 0.2251 - mse: 0.0713\n",
      "Epoch 33/200\n",
      "20/20 [==============================] - 0s 2ms/step - loss: 0.0713 - mae: 0.2267 - mse: 0.0713\n",
      "Epoch 34/200\n",
      "20/20 [==============================] - 0s 2ms/step - loss: 0.0713 - mae: 0.2271 - mse: 0.0713\n",
      "Epoch 35/200\n",
      "20/20 [==============================] - 0s 2ms/step - loss: 0.0712 - mae: 0.2298 - mse: 0.0712\n",
      "Epoch 36/200\n",
      "20/20 [==============================] - 0s 2ms/step - loss: 0.0710 - mae: 0.2257 - mse: 0.0710\n",
      "Epoch 37/200\n",
      "20/20 [==============================] - 0s 2ms/step - loss: 0.0713 - mae: 0.2268 - mse: 0.0713\n",
      "Epoch 38/200\n",
      "20/20 [==============================] - 0s 1ms/step - loss: 0.0714 - mae: 0.2269 - mse: 0.0714\n",
      "Epoch 39/200\n",
      "20/20 [==============================] - 0s 2ms/step - loss: 0.0713 - mae: 0.2274 - mse: 0.0713\n",
      "Epoch 40/200\n",
      "20/20 [==============================] - 0s 2ms/step - loss: 0.0713 - mae: 0.2268 - mse: 0.0713\n",
      "Epoch 41/200\n",
      "20/20 [==============================] - 0s 2ms/step - loss: 0.0713 - mae: 0.2254 - mse: 0.0713\n",
      "Epoch 42/200\n",
      "20/20 [==============================] - 0s 2ms/step - loss: 0.0713 - mae: 0.2275 - mse: 0.0713\n",
      "Epoch 43/200\n",
      "20/20 [==============================] - 0s 2ms/step - loss: 0.0713 - mae: 0.2278 - mse: 0.0713\n",
      "Epoch 44/200\n",
      "20/20 [==============================] - 0s 2ms/step - loss: 0.0713 - mae: 0.2271 - mse: 0.0713\n",
      "Epoch 45/200\n",
      "20/20 [==============================] - 0s 1ms/step - loss: 0.0712 - mae: 0.2277 - mse: 0.0712\n",
      "Epoch 46/200\n",
      "20/20 [==============================] - 0s 2ms/step - loss: 0.0713 - mae: 0.2268 - mse: 0.0713\n",
      "Epoch 47/200\n",
      "20/20 [==============================] - 0s 2ms/step - loss: 0.0713 - mae: 0.2241 - mse: 0.0713\n",
      "Epoch 48/200\n",
      "20/20 [==============================] - 0s 2ms/step - loss: 0.0711 - mae: 0.2244 - mse: 0.0711    \n",
      "Epoch 49/200\n",
      "20/20 [==============================] - 0s 2ms/step - loss: 0.0713 - mae: 0.2264 - mse: 0.0713\n",
      "Epoch 50/200\n",
      "20/20 [==============================] - 0s 2ms/step - loss: 0.0713 - mae: 0.2269 - mse: 0.0713\n",
      "Epoch 51/200\n",
      "20/20 [==============================] - 0s 2ms/step - loss: 0.0713 - mae: 0.2281 - mse: 0.0713\n",
      "Epoch 52/200\n",
      "20/20 [==============================] - 0s 2ms/step - loss: 0.0708 - mae: 0.2260 - mse: 0.0708\n",
      "Epoch 53/200\n",
      "20/20 [==============================] - 0s 2ms/step - loss: 0.0713 - mae: 0.2272 - mse: 0.0713\n",
      "Epoch 54/200\n",
      "20/20 [==============================] - 0s 2ms/step - loss: 0.0714 - mae: 0.2266 - mse: 0.0714\n",
      "Epoch 55/200\n",
      "20/20 [==============================] - 0s 2ms/step - loss: 0.0713 - mae: 0.2275 - mse: 0.0713\n",
      "Epoch 56/200\n",
      "20/20 [==============================] - 0s 2ms/step - loss: 0.0712 - mae: 0.2275 - mse: 0.0712        \n",
      "Epoch 57/200\n",
      "20/20 [==============================] - 0s 2ms/step - loss: 0.0713 - mae: 0.2248 - mse: 0.0713\n",
      "Epoch 58/200\n",
      "20/20 [==============================] - 0s 2ms/step - loss: 0.0712 - mae: 0.2268 - mse: 0.0712\n",
      "Epoch 59/200\n",
      "20/20 [==============================] - 0s 2ms/step - loss: 0.0713 - mae: 0.2249 - mse: 0.0713\n",
      "Epoch 60/200\n",
      "20/20 [==============================] - 0s 2ms/step - loss: 0.0712 - mae: 0.2268 - mse: 0.0712\n",
      "Epoch 61/200\n",
      "20/20 [==============================] - 0s 1ms/step - loss: 0.0712 - mae: 0.2276 - mse: 0.0712\n",
      "Epoch 62/200\n",
      "20/20 [==============================] - 0s 2ms/step - loss: 0.0713 - mae: 0.2241 - mse: 0.0713\n",
      "Epoch 63/200\n",
      "20/20 [==============================] - 0s 2ms/step - loss: 0.0712 - mae: 0.2289 - mse: 0.0712\n",
      "Epoch 64/200\n",
      "20/20 [==============================] - 0s 2ms/step - loss: 0.0713 - mae: 0.2246 - mse: 0.0713\n",
      "Epoch 65/200\n",
      "20/20 [==============================] - 0s 2ms/step - loss: 0.0712 - mae: 0.2253 - mse: 0.0712\n",
      "Epoch 66/200\n",
      "20/20 [==============================] - 0s 2ms/step - loss: 0.0713 - mae: 0.2255 - mse: 0.0713    \n",
      "Epoch 67/200\n",
      "20/20 [==============================] - 0s 2ms/step - loss: 0.0713 - mae: 0.2247 - mse: 0.0713\n",
      "Epoch 68/200\n",
      "20/20 [==============================] - 0s 3ms/step - loss: 0.0711 - mae: 0.2264 - mse: 0.0711\n",
      "Epoch 69/200\n",
      "20/20 [==============================] - 0s 2ms/step - loss: 0.0713 - mae: 0.2263 - mse: 0.0713    \n",
      "Epoch 70/200\n",
      "20/20 [==============================] - 0s 3ms/step - loss: 0.0714 - mae: 0.2267 - mse: 0.0714\n",
      "Epoch 71/200\n",
      "20/20 [==============================] - 0s 2ms/step - loss: 0.0712 - mae: 0.2267 - mse: 0.0712\n",
      "Epoch 72/200\n",
      "20/20 [==============================] - 0s 2ms/step - loss: 0.0713 - mae: 0.2282 - mse: 0.0713\n",
      "Epoch 73/200\n",
      "20/20 [==============================] - 0s 1ms/step - loss: 0.0712 - mae: 0.2272 - mse: 0.0712    \n",
      "Epoch 74/200\n",
      "20/20 [==============================] - 0s 2ms/step - loss: 0.0712 - mae: 0.2276 - mse: 0.0712\n",
      "Epoch 75/200\n",
      "20/20 [==============================] - 0s 2ms/step - loss: 0.0714 - mae: 0.2265 - mse: 0.0714\n",
      "Epoch 76/200\n",
      "20/20 [==============================] - 0s 1ms/step - loss: 0.0711 - mae: 0.2289 - mse: 0.0711\n",
      "Epoch 77/200\n",
      "20/20 [==============================] - 0s 2ms/step - loss: 0.0714 - mae: 0.2272 - mse: 0.0714\n",
      "Epoch 78/200\n",
      "20/20 [==============================] - 0s 2ms/step - loss: 0.0713 - mae: 0.2294 - mse: 0.0713\n",
      "Epoch 79/200\n",
      "20/20 [==============================] - 0s 2ms/step - loss: 0.0711 - mae: 0.2260 - mse: 0.0711\n",
      "Epoch 80/200\n",
      "20/20 [==============================] - 0s 2ms/step - loss: 0.0713 - mae: 0.2259 - mse: 0.0713\n",
      "Epoch 81/200\n",
      "20/20 [==============================] - 0s 1ms/step - loss: 0.0712 - mae: 0.2246 - mse: 0.0712    \n",
      "Epoch 82/200\n",
      "20/20 [==============================] - 0s 2ms/step - loss: 0.0713 - mae: 0.2275 - mse: 0.0713\n",
      "Epoch 83/200\n",
      "20/20 [==============================] - 0s 1ms/step - loss: 0.0710 - mae: 0.2253 - mse: 0.0710\n",
      "Epoch 84/200\n",
      "20/20 [==============================] - 0s 2ms/step - loss: 0.0713 - mae: 0.2282 - mse: 0.0713\n",
      "Epoch 85/200\n",
      "20/20 [==============================] - 0s 2ms/step - loss: 0.0713 - mae: 0.2238 - mse: 0.0713\n",
      "Epoch 86/200\n",
      "20/20 [==============================] - 0s 2ms/step - loss: 0.0711 - mae: 0.2270 - mse: 0.0711\n",
      "Epoch 87/200\n",
      "20/20 [==============================] - 0s 2ms/step - loss: 0.0713 - mae: 0.2262 - mse: 0.0713\n",
      "Epoch 88/200\n",
      "20/20 [==============================] - 0s 2ms/step - loss: 0.0713 - mae: 0.2250 - mse: 0.0713\n",
      "Epoch 89/200\n",
      "20/20 [==============================] - 0s 2ms/step - loss: 0.0711 - mae: 0.2267 - mse: 0.0711\n",
      "Epoch 90/200\n",
      "20/20 [==============================] - 0s 2ms/step - loss: 0.0713 - mae: 0.2254 - mse: 0.0713\n",
      "Epoch 91/200\n",
      "20/20 [==============================] - 0s 1ms/step - loss: 0.0712 - mae: 0.2247 - mse: 0.0712\n",
      "Epoch 92/200\n",
      "20/20 [==============================] - 0s 2ms/step - loss: 0.0712 - mae: 0.2260 - mse: 0.0712\n",
      "Epoch 93/200\n",
      "20/20 [==============================] - 0s 2ms/step - loss: 0.0714 - mae: 0.2281 - mse: 0.0714\n",
      "Epoch 94/200\n",
      "20/20 [==============================] - 0s 2ms/step - loss: 0.0713 - mae: 0.2278 - mse: 0.0713\n",
      "Epoch 95/200\n",
      "20/20 [==============================] - 0s 2ms/step - loss: 0.0713 - mae: 0.2275 - mse: 0.0713\n",
      "Epoch 96/200\n",
      "20/20 [==============================] - 0s 2ms/step - loss: 0.0713 - mae: 0.2263 - mse: 0.0713\n",
      "Epoch 97/200\n",
      "20/20 [==============================] - 0s 2ms/step - loss: 0.0712 - mae: 0.2253 - mse: 0.0712\n",
      "Epoch 98/200\n",
      "20/20 [==============================] - 0s 2ms/step - loss: 0.0711 - mae: 0.2254 - mse: 0.0711\n",
      "Epoch 99/200\n",
      "20/20 [==============================] - 0s 2ms/step - loss: 0.0713 - mae: 0.2275 - mse: 0.0713\n",
      "Epoch 100/200\n",
      "20/20 [==============================] - 0s 2ms/step - loss: 0.0713 - mae: 0.2277 - mse: 0.0713\n",
      "Epoch 101/200\n",
      "20/20 [==============================] - 0s 2ms/step - loss: 0.0710 - mae: 0.2253 - mse: 0.0710\n",
      "Epoch 102/200\n",
      "20/20 [==============================] - 0s 2ms/step - loss: 0.0713 - mae: 0.2258 - mse: 0.0713    \n",
      "Epoch 103/200\n",
      "20/20 [==============================] - 0s 1ms/step - loss: 0.0713 - mae: 0.2257 - mse: 0.0713    \n",
      "Epoch 104/200\n",
      "20/20 [==============================] - 0s 2ms/step - loss: 0.0713 - mae: 0.2246 - mse: 0.0713\n",
      "Epoch 105/200\n",
      "20/20 [==============================] - 0s 2ms/step - loss: 0.0713 - mae: 0.2263 - mse: 0.0713\n",
      "Epoch 106/200\n",
      "20/20 [==============================] - 0s 2ms/step - loss: 0.0711 - mae: 0.2249 - mse: 0.0711\n",
      "Epoch 107/200\n",
      "20/20 [==============================] - 0s 2ms/step - loss: 0.0710 - mae: 0.2279 - mse: 0.0710\n",
      "Epoch 108/200\n",
      "20/20 [==============================] - 0s 2ms/step - loss: 0.0712 - mae: 0.2280 - mse: 0.0712\n",
      "Epoch 109/200\n",
      "20/20 [==============================] - 0s 2ms/step - loss: 0.0712 - mae: 0.2250 - mse: 0.0712    \n",
      "Epoch 110/200\n",
      "20/20 [==============================] - 0s 2ms/step - loss: 0.0713 - mae: 0.2274 - mse: 0.0713\n",
      "Epoch 111/200\n",
      "20/20 [==============================] - 0s 2ms/step - loss: 0.0712 - mae: 0.2284 - mse: 0.0712\n",
      "Epoch 112/200\n",
      "20/20 [==============================] - 0s 3ms/step - loss: 0.0714 - mae: 0.2265 - mse: 0.0714\n",
      "Epoch 113/200\n",
      "20/20 [==============================] - 0s 2ms/step - loss: 0.0714 - mae: 0.2253 - mse: 0.0714\n",
      "Epoch 114/200\n",
      "20/20 [==============================] - 0s 2ms/step - loss: 0.0713 - mae: 0.2266 - mse: 0.0713\n",
      "Epoch 115/200\n",
      "20/20 [==============================] - 0s 1ms/step - loss: 0.0713 - mae: 0.2258 - mse: 0.0713    \n",
      "Epoch 116/200\n",
      "20/20 [==============================] - 0s 2ms/step - loss: 0.0713 - mae: 0.2273 - mse: 0.0713\n",
      "Epoch 117/200\n",
      "20/20 [==============================] - 0s 2ms/step - loss: 0.0712 - mae: 0.2277 - mse: 0.0712\n",
      "Epoch 118/200\n",
      "20/20 [==============================] - 0s 1ms/step - loss: 0.0710 - mae: 0.2281 - mse: 0.0710\n",
      "Epoch 119/200\n",
      "20/20 [==============================] - 0s 2ms/step - loss: 0.0713 - mae: 0.2268 - mse: 0.0713\n",
      "Epoch 120/200\n",
      "20/20 [==============================] - 0s 1ms/step - loss: 0.0713 - mae: 0.2256 - mse: 0.0713\n",
      "Epoch 121/200\n",
      "20/20 [==============================] - 0s 2ms/step - loss: 0.0710 - mae: 0.2255 - mse: 0.0710\n",
      "Epoch 122/200\n",
      "20/20 [==============================] - 0s 2ms/step - loss: 0.0713 - mae: 0.2267 - mse: 0.0713\n",
      "Epoch 123/200\n",
      "20/20 [==============================] - 0s 2ms/step - loss: 0.0712 - mae: 0.2261 - mse: 0.0712\n",
      "Epoch 124/200\n",
      "20/20 [==============================] - 0s 1ms/step - loss: 0.0712 - mae: 0.2269 - mse: 0.0712\n",
      "Epoch 125/200\n",
      "20/20 [==============================] - 0s 2ms/step - loss: 0.0711 - mae: 0.2269 - mse: 0.0711\n",
      "Epoch 126/200\n",
      "20/20 [==============================] - 0s 1ms/step - loss: 0.0710 - mae: 0.2253 - mse: 0.0710\n",
      "Epoch 127/200\n",
      "20/20 [==============================] - 0s 2ms/step - loss: 0.0714 - mae: 0.2271 - mse: 0.0714\n",
      "Epoch 128/200\n",
      "20/20 [==============================] - 0s 1ms/step - loss: 0.0712 - mae: 0.2244 - mse: 0.0712\n",
      "Epoch 129/200\n",
      "20/20 [==============================] - 0s 2ms/step - loss: 0.0712 - mae: 0.2283 - mse: 0.0712\n",
      "Epoch 130/200\n",
      "20/20 [==============================] - 0s 1ms/step - loss: 0.0713 - mae: 0.2267 - mse: 0.0713\n",
      "Epoch 131/200\n",
      "20/20 [==============================] - 0s 1ms/step - loss: 0.0712 - mae: 0.2245 - mse: 0.0712    \n",
      "Epoch 132/200\n",
      "20/20 [==============================] - 0s 2ms/step - loss: 0.0712 - mae: 0.2279 - mse: 0.0712\n",
      "Epoch 133/200\n",
      "20/20 [==============================] - 0s 2ms/step - loss: 0.0713 - mae: 0.2275 - mse: 0.0713\n",
      "Epoch 134/200\n",
      "20/20 [==============================] - 0s 2ms/step - loss: 0.0714 - mae: 0.2261 - mse: 0.0714\n",
      "Epoch 135/200\n",
      "20/20 [==============================] - 0s 2ms/step - loss: 0.0713 - mae: 0.2270 - mse: 0.0713\n",
      "Epoch 136/200\n",
      "20/20 [==============================] - 0s 2ms/step - loss: 0.0713 - mae: 0.2263 - mse: 0.0713    \n",
      "Epoch 137/200\n",
      "20/20 [==============================] - 0s 2ms/step - loss: 0.0712 - mae: 0.2275 - mse: 0.0712\n",
      "Epoch 138/200\n",
      "20/20 [==============================] - 0s 2ms/step - loss: 0.0713 - mae: 0.2266 - mse: 0.0713\n",
      "Epoch 139/200\n",
      "20/20 [==============================] - 0s 2ms/step - loss: 0.0713 - mae: 0.2249 - mse: 0.0713\n",
      "Epoch 140/200\n",
      "20/20 [==============================] - 0s 2ms/step - loss: 0.0714 - mae: 0.2254 - mse: 0.0714\n",
      "Epoch 141/200\n",
      "20/20 [==============================] - 0s 2ms/step - loss: 0.0713 - mae: 0.2271 - mse: 0.0713\n",
      "Epoch 142/200\n",
      "20/20 [==============================] - 0s 1ms/step - loss: 0.0713 - mae: 0.2270 - mse: 0.0713\n",
      "Epoch 143/200\n",
      "20/20 [==============================] - 0s 1ms/step - loss: 0.0713 - mae: 0.2269 - mse: 0.0713\n",
      "Epoch 144/200\n",
      "20/20 [==============================] - 0s 1ms/step - loss: 0.0710 - mae: 0.2232 - mse: 0.0710\n",
      "Epoch 145/200\n",
      "20/20 [==============================] - 0s 3ms/step - loss: 0.0710 - mae: 0.2283 - mse: 0.0710\n",
      "Epoch 146/200\n",
      "20/20 [==============================] - 0s 3ms/step - loss: 0.0710 - mae: 0.2266 - mse: 0.0710\n",
      "Epoch 147/200\n",
      "20/20 [==============================] - 0s 2ms/step - loss: 0.0714 - mae: 0.2258 - mse: 0.0714    \n",
      "Epoch 148/200\n",
      "20/20 [==============================] - 0s 2ms/step - loss: 0.0711 - mae: 0.2240 - mse: 0.0711\n",
      "Epoch 149/200\n",
      "20/20 [==============================] - 0s 2ms/step - loss: 0.0713 - mae: 0.2264 - mse: 0.0713\n",
      "Epoch 150/200\n",
      "20/20 [==============================] - 0s 2ms/step - loss: 0.0713 - mae: 0.2249 - mse: 0.0713\n",
      "Epoch 151/200\n",
      "20/20 [==============================] - 0s 1ms/step - loss: 0.0713 - mae: 0.2257 - mse: 0.0713    \n",
      "Epoch 152/200\n",
      "20/20 [==============================] - 0s 1ms/step - loss: 0.0713 - mae: 0.2279 - mse: 0.0713\n",
      "Epoch 153/200\n",
      "20/20 [==============================] - 0s 2ms/step - loss: 0.0714 - mae: 0.2273 - mse: 0.0714\n",
      "Epoch 154/200\n",
      "20/20 [==============================] - 0s 1ms/step - loss: 0.0712 - mae: 0.2251 - mse: 0.0712\n",
      "Epoch 155/200\n",
      "20/20 [==============================] - 0s 2ms/step - loss: 0.0711 - mae: 0.2287 - mse: 0.0711    \n",
      "Epoch 156/200\n",
      "20/20 [==============================] - 0s 1ms/step - loss: 0.0712 - mae: 0.2279 - mse: 0.0712\n",
      "Epoch 157/200\n",
      "20/20 [==============================] - 0s 2ms/step - loss: 0.0711 - mae: 0.2284 - mse: 0.0711    \n",
      "Epoch 158/200\n",
      "20/20 [==============================] - 0s 1ms/step - loss: 0.0711 - mae: 0.2271 - mse: 0.0711\n",
      "Epoch 159/200\n",
      "20/20 [==============================] - 0s 2ms/step - loss: 0.0712 - mae: 0.2270 - mse: 0.0712\n",
      "Epoch 160/200\n",
      "20/20 [==============================] - 0s 1ms/step - loss: 0.0711 - mae: 0.2248 - mse: 0.0711\n",
      "Epoch 161/200\n",
      "20/20 [==============================] - 0s 2ms/step - loss: 0.0711 - mae: 0.2266 - mse: 0.0711\n",
      "Epoch 162/200\n",
      "20/20 [==============================] - 0s 2ms/step - loss: 0.0713 - mae: 0.2241 - mse: 0.0713\n",
      "Epoch 163/200\n",
      "20/20 [==============================] - 0s 2ms/step - loss: 0.0710 - mae: 0.2251 - mse: 0.0710\n",
      "Epoch 164/200\n",
      "20/20 [==============================] - 0s 1ms/step - loss: 0.0713 - mae: 0.2275 - mse: 0.0713\n",
      "Epoch 165/200\n",
      "20/20 [==============================] - 0s 2ms/step - loss: 0.0712 - mae: 0.2275 - mse: 0.0712\n",
      "Epoch 166/200\n",
      "20/20 [==============================] - 0s 1ms/step - loss: 0.0712 - mae: 0.2271 - mse: 0.0712\n",
      "Epoch 167/200\n",
      "20/20 [==============================] - 0s 2ms/step - loss: 0.0712 - mae: 0.2254 - mse: 0.0712\n",
      "Epoch 168/200\n",
      "20/20 [==============================] - 0s 1ms/step - loss: 0.0713 - mae: 0.2254 - mse: 0.0713    \n",
      "Epoch 169/200\n",
      "20/20 [==============================] - 0s 2ms/step - loss: 0.0710 - mae: 0.2255 - mse: 0.0710\n",
      "Epoch 170/200\n",
      "20/20 [==============================] - 0s 2ms/step - loss: 0.0713 - mae: 0.2270 - mse: 0.0713\n",
      "Epoch 171/200\n",
      "20/20 [==============================] - 0s 2ms/step - loss: 0.0713 - mae: 0.2251 - mse: 0.0713\n",
      "Epoch 172/200\n",
      "20/20 [==============================] - 0s 2ms/step - loss: 0.0713 - mae: 0.2242 - mse: 0.0713    \n",
      "Epoch 173/200\n",
      "20/20 [==============================] - 0s 2ms/step - loss: 0.0713 - mae: 0.2259 - mse: 0.0713\n",
      "Epoch 174/200\n",
      "20/20 [==============================] - 0s 2ms/step - loss: 0.0711 - mae: 0.2278 - mse: 0.0711\n",
      "Epoch 175/200\n",
      "20/20 [==============================] - 0s 2ms/step - loss: 0.0712 - mae: 0.2258 - mse: 0.0712\n",
      "Epoch 176/200\n",
      "20/20 [==============================] - 0s 2ms/step - loss: 0.0713 - mae: 0.2291 - mse: 0.0713\n",
      "Epoch 177/200\n",
      "20/20 [==============================] - 0s 2ms/step - loss: 0.0713 - mae: 0.2264 - mse: 0.0713\n",
      "Epoch 178/200\n",
      "20/20 [==============================] - 0s 2ms/step - loss: 0.0708 - mae: 0.2242 - mse: 0.0708\n",
      "Epoch 179/200\n",
      "20/20 [==============================] - 0s 2ms/step - loss: 0.0714 - mae: 0.2282 - mse: 0.0714\n",
      "Epoch 180/200\n",
      "20/20 [==============================] - 0s 2ms/step - loss: 0.0713 - mae: 0.2254 - mse: 0.0713\n",
      "Epoch 181/200\n",
      "20/20 [==============================] - 0s 2ms/step - loss: 0.0713 - mae: 0.2283 - mse: 0.0713\n",
      "Epoch 182/200\n",
      "20/20 [==============================] - 0s 2ms/step - loss: 0.0713 - mae: 0.2277 - mse: 0.0713\n",
      "Epoch 183/200\n",
      "20/20 [==============================] - 0s 2ms/step - loss: 0.0710 - mae: 0.2282 - mse: 0.0710\n",
      "Epoch 184/200\n",
      "20/20 [==============================] - 0s 2ms/step - loss: 0.0713 - mae: 0.2262 - mse: 0.0713\n",
      "Epoch 185/200\n",
      "20/20 [==============================] - 0s 1ms/step - loss: 0.0712 - mae: 0.2283 - mse: 0.0712\n",
      "Epoch 186/200\n",
      "20/20 [==============================] - 0s 1ms/step - loss: 0.0713 - mae: 0.2251 - mse: 0.0713    \n",
      "Epoch 187/200\n",
      "20/20 [==============================] - 0s 2ms/step - loss: 0.0713 - mae: 0.2259 - mse: 0.0713\n",
      "Epoch 188/200\n",
      "20/20 [==============================] - 0s 1ms/step - loss: 0.0711 - mae: 0.2266 - mse: 0.0711\n",
      "Epoch 189/200\n",
      "20/20 [==============================] - 0s 2ms/step - loss: 0.0713 - mae: 0.2264 - mse: 0.0713    \n",
      "Epoch 190/200\n",
      "20/20 [==============================] - 0s 2ms/step - loss: 0.0713 - mae: 0.2280 - mse: 0.0713\n",
      "Epoch 191/200\n",
      "20/20 [==============================] - 0s 2ms/step - loss: 0.0713 - mae: 0.2274 - mse: 0.0713\n",
      "Epoch 192/200\n",
      "20/20 [==============================] - 0s 2ms/step - loss: 0.0713 - mae: 0.2252 - mse: 0.0713\n",
      "Epoch 193/200\n",
      "20/20 [==============================] - 0s 1ms/step - loss: 0.0713 - mae: 0.2269 - mse: 0.0713\n",
      "Epoch 194/200\n",
      "20/20 [==============================] - 0s 2ms/step - loss: 0.0713 - mae: 0.2270 - mse: 0.0713\n",
      "Epoch 195/200\n",
      "20/20 [==============================] - 0s 2ms/step - loss: 0.0713 - mae: 0.2263 - mse: 0.0713\n",
      "Epoch 196/200\n",
      "20/20 [==============================] - 0s 1ms/step - loss: 0.0713 - mae: 0.2270 - mse: 0.0713\n",
      "Epoch 197/200\n",
      "20/20 [==============================] - 0s 2ms/step - loss: 0.0713 - mae: 0.2250 - mse: 0.0713    \n",
      "Epoch 198/200\n",
      "20/20 [==============================] - 0s 1ms/step - loss: 0.0711 - mae: 0.2271 - mse: 0.0711\n",
      "Epoch 199/200\n",
      "20/20 [==============================] - 0s 2ms/step - loss: 0.0712 - mae: 0.2255 - mse: 0.0712\n",
      "Epoch 200/200\n",
      "20/20 [==============================] - 0s 2ms/step - loss: 0.0713 - mae: 0.2269 - mse: 0.0713\n"
     ]
    },
    {
     "data": {
      "text/plain": [
       "<tensorflow.python.keras.callbacks.History at 0x7ffae2da3280>"
      ]
     },
     "execution_count": 54,
     "metadata": {},
     "output_type": "execute_result"
    }
   ],
   "source": [
    "model.fit(X_train_norm, y_train, \n",
    "          epochs=num_epochs, batch_size=batch_size, verbose=1)"
   ]
  },
  {
   "cell_type": "code",
   "execution_count": 55,
   "metadata": {},
   "outputs": [
    {
     "name": "stdout",
     "output_type": "stream",
     "text": [
      "3.1503992 6.1201334\n"
     ]
    },
    {
     "data": {
      "image/png": "[encoded data removed]",
      "text/plain": [
       "<Figure size 936x360 with 2 Axes>"
      ]
     },
     "metadata": {
      "needs_background": "light"
     },
     "output_type": "display_data"
    }
   ],
   "source": [
    "print(model.w.numpy(), model.b.numpy())\n",
    "\n",
    "X_test = np.linspace(0, 19, num=100).reshape(-1, 1)\n",
    "X_test_norm = (X_test - np.mean(X_train)) / np.std(X_train)\n",
    "\n",
    "y_pred = model(tf.cast(X_test_norm, dtype=tf.float32))\n",
    "\n",
    "\n",
    "fig = plt.figure(figsize=(13, 5))\n",
    "ax = fig.add_subplot(1, 2, 1)\n",
    "plt.plot(X_train_norm, y_train, 'o', markersize=10)\n",
    "plt.plot(X_test_norm, y_pred, '--', lw=3)\n",
    "plt.legend(['Training Samples', 'Linear Regression'], fontsize=12)\n",
    "\n",
    "ax = fig.add_subplot(1, 2, 2)\n",
    "plt.plot(Ws, lw=3)\n",
    "plt.plot(bs, lw=3)\n",
    "plt.legend(['W', 'bias'], fontsize=12)\n",
    "plt.show()"
   ]
  },
  {
   "cell_type": "markdown",
   "metadata": {},
   "source": [
    "## Building a multilayer perceptron for classifying flowers in the Iris dataset"
   ]
  },
  {
   "cell_type": "code",
   "execution_count": null,
   "metadata": {},
   "outputs": [],
   "source": [
    "import tensorflow_datasets as tfds\n",
    "\n",
    "iris, iris_info = tfds.load('iris', with_info=True)\n",
    "\n",
    "print(iris_info)"
   ]
  },
  {
   "cell_type": "code",
   "execution_count": 13,
   "metadata": {},
   "outputs": [
    {
     "name": "stdout",
     "output_type": "stream",
     "text": [
      "{'features': <tf.Tensor: shape=(4,), dtype=float32, numpy=array([6.5, 3. , 5.2, 2. ], dtype=float32)>, 'label': <tf.Tensor: shape=(), dtype=int64, numpy=2>}\n"
     ]
    }
   ],
   "source": [
    "tf.random.set_seed(1)\n",
    "\n",
    "ds_orig = iris['train']\n",
    "ds_orig = ds_orig.shuffle(150, reshuffle_each_iteration=False)\n",
    "\n",
    "print(next(iter(ds_orig)))\n",
    "\n",
    "ds_train_orig = ds_orig.take(100)\n",
    "ds_test = ds_orig.skip(100)"
   ]
  },
  {
   "cell_type": "code",
   "execution_count": 15,
   "metadata": {},
   "outputs": [
    {
     "name": "stdout",
     "output_type": "stream",
     "text": [
      "100\n",
      "50\n"
     ]
    }
   ],
   "source": [
    "## checking the number of examples:\n",
    "\n",
    "n = 0\n",
    "for i in ds_train_orig:\n",
    "    n += 1\n",
    "print(n)\n",
    "\n",
    "\n",
    "n = 0\n",
    "for i in ds_test:\n",
    "    n += 1\n",
    "print(n)"
   ]
  },
  {
   "cell_type": "code",
   "execution_count": null,
   "metadata": {},
   "outputs": [],
   "source": [
    "ds_train_orig = ds_train_orig.map(\n",
    "    lambda x: (x['features'], x['label']))\n",
    "\n",
    "ds_test = ds_test.map(\n",
    "    lambda x: (x['features'], x['label']))\n",
    "\n",
    "next(iter(ds_train_orig))"
   ]
  },
  {
   "cell_type": "code",
   "execution_count": 19,
   "metadata": {},
   "outputs": [
    {
     "name": "stdout",
     "output_type": "stream",
     "text": [
      "Model: \"sequential\"\n",
      "_________________________________________________________________\n",
      "Layer (type)                 Output Shape              Param #   \n",
      "=================================================================\n",
      "fc1 (Dense)                  (None, 12)                60        \n",
      "_________________________________________________________________\n",
      "fc2 (Dense)                  (None, 4)                 52        \n",
      "=================================================================\n",
      "Total params: 112\n",
      "Trainable params: 112\n",
      "Non-trainable params: 0\n",
      "_________________________________________________________________\n"
     ]
    }
   ],
   "source": [
    "iris_model = tf.keras.Sequential([\n",
    "    tf.keras.layers.Dense(12, activation='sigmoid', \n",
    "                          name='fc1', input_shape=(4,)),\n",
    "    tf.keras.layers.Dense(4, name='fc2', activation='softmax')])\n",
    "\n",
    "iris_model.summary()"
   ]
  },
  {
   "cell_type": "code",
   "execution_count": 20,
   "metadata": {},
   "outputs": [],
   "source": [
    "iris_model.compile(optimizer='adam',\n",
    "                   loss='sparse_categorical_crossentropy',\n",
    "                   metrics=['accuracy'])"
   ]
  },
  {
   "cell_type": "code",
   "execution_count": 22,
   "metadata": {},
   "outputs": [
    {
     "data": {
      "text/plain": [
       "<tensorflow.python.keras.callbacks.History at 0x7fd9086e67f0>"
      ]
     },
     "execution_count": 22,
     "metadata": {},
     "output_type": "execute_result"
    }
   ],
   "source": [
    "num_epochs = 100\n",
    "training_size = 100\n",
    "batch_size = 2\n",
    "steps_per_epoch = np.ceil(training_size / batch_size)\n",
    "\n",
    "ds_train = ds_train_orig.shuffle(buffer_size=training_size)\n",
    "ds_train = ds_train.repeat()\n",
    "ds_train = ds_train.batch(batch_size=batch_size)\n",
    "ds_train = ds_train.prefetch(buffer_size=1000)\n",
    "\n",
    "\n",
    "history = iris_model.fit(ds_train, epochs=num_epochs,\n",
    "                         steps_per_epoch=steps_per_epoch, \n",
    "                         verbose=0)\n"
   ]
  },
  {
   "cell_type": "code",
   "execution_count": 25,
   "metadata": {},
   "outputs": [
    {
     "data": {
      "image/png": "[encoded data removed]",
      "text/plain": [
       "<Figure size 864x360 with 2 Axes>"
      ]
     },
     "metadata": {
      "needs_background": "light"
     },
     "output_type": "display_data"
    }
   ],
   "source": [
    "hist = history.history # tiene 'loss' and ' accuracy' parameters\n",
    "\n",
    "fig = plt.figure(figsize=(12, 5))\n",
    "ax = fig.add_subplot(1, 2, 1)\n",
    "ax.plot(hist['loss'], lw=3)\n",
    "ax.set_title('Training loss', size=15)\n",
    "ax.set_xlabel('Epoch', size=15)\n",
    "ax.tick_params(axis='both', which='major', labelsize=15)\n",
    "\n",
    "ax = fig.add_subplot(1, 2, 2)\n",
    "ax.plot(hist['accuracy'], lw=3)\n",
    "ax.set_title('Training accuracy', size=15)\n",
    "ax.set_xlabel('Epoch', size=15)\n",
    "ax.tick_params(axis='both', which='major', labelsize=15)\n",
    "plt.tight_layout()\n",
    "\n",
    "plt.show()"
   ]
  },
  {
   "cell_type": "markdown",
   "metadata": {},
   "source": [
    "### Evaluating the trained model on the test dataset"
   ]
  },
  {
   "cell_type": "code",
   "execution_count": 31,
   "metadata": {},
   "outputs": [
    {
     "name": "stdout",
     "output_type": "stream",
     "text": [
      "Test loss: 0.0800   Test Acc.: 0.9800\n"
     ]
    }
   ],
   "source": [
    "results = iris_model.evaluate(ds_test.batch(50), verbose=0)\n",
    "print('Test loss: {:.4f}   Test Acc.: {:.4f}'.format(*results))"
   ]
  },
  {
   "cell_type": "markdown",
   "metadata": {},
   "source": [
    "### Saving and reloading the trained model"
   ]
  },
  {
   "cell_type": "code",
   "execution_count": 23,
   "metadata": {},
   "outputs": [],
   "source": [
    "iris_model.save('iris-classifier.h5', \n",
    "                overwrite=True,\n",
    "                include_optimizer=True,\n",
    "                save_format='h5')"
   ]
  },
  {
   "cell_type": "code",
   "execution_count": 24,
   "metadata": {},
   "outputs": [
    {
     "name": "stdout",
     "output_type": "stream",
     "text": [
      "Model: \"sequential\"\n",
      "_________________________________________________________________\n",
      "Layer (type)                 Output Shape              Param #   \n",
      "=================================================================\n",
      "fc1 (Dense)                  (None, 16)                80        \n",
      "_________________________________________________________________\n",
      "fc2 (Dense)                  (None, 3)                 51        \n",
      "=================================================================\n",
      "Total params: 131\n",
      "Trainable params: 131\n",
      "Non-trainable params: 0\n",
      "_________________________________________________________________\n"
     ]
    }
   ],
   "source": [
    "iris_model_new = tf.keras.models.load_model('iris-classifier.h5')\n",
    "\n",
    "iris_model_new.summary()"
   ]
  },
  {
   "cell_type": "code",
   "execution_count": null,
   "metadata": {},
   "outputs": [],
   "source": [
    "results = iris_model_new.evaluate(ds_test.batch(50), verbose=0)\n",
    "print('Test loss: {:.4f}   Test Acc.: {:.4f}'.format(*results))"
   ]
  },
  {
   "cell_type": "code",
   "execution_count": 34,
   "metadata": {},
   "outputs": [
    {
     "name": "stdout",
     "output_type": "stream",
     "text": [
      "Training Set:  100 Test Set:  50\n"
     ]
    }
   ],
   "source": [
    "labels_train = []\n",
    "for i, item in enumerate(ds_train_orig):\n",
    "    labels_train.append(item[1].numpy())\n",
    "    \n",
    "labels_test = []\n",
    "for i, item in enumerate(ds_test):\n",
    "    labels_test.append(item[1].numpy())\n",
    "    \n",
    "print('Training Set: ',len(labels_train), 'Test Set: ', len(labels_test))"
   ]
  },
  {
   "cell_type": "code",
   "execution_count": 27,
   "metadata": {},
   "outputs": [
    {
     "data": {
      "text/plain": [
       "'{\"class_name\": \"Sequential\", \"config\": {\"name\": \"sequential\", \"layers\": [{\"class_name\": \"Dense\", \"config\": {\"name\": \"fc1\", \"trainable\": true, \"batch_input_shape\": [null, 4], \"dtype\": \"float32\", \"units\": 16, \"activation\": \"sigmoid\", \"use_bias\": true, \"kernel_initializer\": {\"class_name\": \"GlorotUniform\", \"config\": {\"seed\": null}}, \"bias_initializer\": {\"class_name\": \"Zeros\", \"config\": {}}, \"kernel_regularizer\": null, \"bias_regularizer\": null, \"activity_regularizer\": null, \"kernel_constraint\": null, \"bias_constraint\": null}}, {\"class_name\": \"Dense\", \"config\": {\"name\": \"fc2\", \"trainable\": true, \"dtype\": \"float32\", \"units\": 3, \"activation\": \"softmax\", \"use_bias\": true, \"kernel_initializer\": {\"class_name\": \"GlorotUniform\", \"config\": {\"seed\": null}}, \"bias_initializer\": {\"class_name\": \"Zeros\", \"config\": {}}, \"kernel_regularizer\": null, \"bias_regularizer\": null, \"activity_regularizer\": null, \"kernel_constraint\": null, \"bias_constraint\": null}}]}, \"keras_version\": \"2.2.4-tf\", \"backend\": \"tensorflow\"}'"
      ]
     },
     "execution_count": 27,
     "metadata": {},
     "output_type": "execute_result"
    }
   ],
   "source": [
    "iris_model_new.to_json()"
   ]
  },
  {
   "cell_type": "markdown",
   "metadata": {},
   "source": [
    "## Choosing activation functions for multilayer neural networks\n"
   ]
  },
  {
   "cell_type": "markdown",
   "metadata": {},
   "source": [
    "### Logistic function recap"
   ]
  },
  {
   "cell_type": "code",
   "execution_count": 36,
   "metadata": {},
   "outputs": [
    {
     "name": "stdout",
     "output_type": "stream",
     "text": [
      "P(y=1|x) = 1.000\n"
     ]
    }
   ],
   "source": [
    "import numpy as np\n",
    "\n",
    "X = np.array([1, 1.4, 2.5, 1.3, 1.5, 2.3, 3.1,\n",
    "              3.4, 4.5, 5.0, 5.7, 6.3]) ## first value must be 1\n",
    "w = np.array([0.4, 0.3, 0.5, 0.6, 0.2, 0.6, 0.8,\n",
    "              0.3, 0.3, 0.9, 0.59, 0.52])\n",
    "\n",
    "def net_input(X, w):\n",
    "    return np.dot(X, w)\n",
    "\n",
    "def logistic(z):\n",
    "    return 1.0 / (1.0 + np.exp(-z))\n",
    "\n",
    "def logistic_activation(X, w):\n",
    "    z = net_input(X, w)\n",
    "    return logistic(z)\n",
    "\n",
    "print('P(y=1|x) = %.3f' % logistic_activation(X, w)) "
   ]
  },
  {
   "cell_type": "code",
   "execution_count": 44,
   "metadata": {},
   "outputs": [
    {
     "name": "stdout",
     "output_type": "stream",
     "text": [
      "Net Input: \n",
      " [2.3  2.08 1.77 3.03]\n",
      "Output Units:\n",
      " [0.90887704 0.88894403 0.85445767 0.95391117]\n"
     ]
    }
   ],
   "source": [
    "# W : array with shape = (n_output_units, n_hidden_units+1)\n",
    "# note that the first column are the bias units\n",
    "\n",
    "W = np.array([[1.1, 1.2, 0.8, 0.4, 1.3],\n",
    "              [0.2, 0.4, 1.0, 0.2, 3.3],\n",
    "              [0.6, 1.5, 1.2, 0.7, 0.3],\n",
    "              [0.8, 3.5, 1.7, 0.4, 2.4]])\n",
    "\n",
    "# A : data array with shape = (n_hidden_units + 1, n_samples)\n",
    "# note that the first column of this array must be 1\n",
    "\n",
    "A = np.array([[1, 0.1, 0.4, 0.6, 0.4]])\n",
    "Z = np.dot(W, A[0])\n",
    "y_probas = logistic(Z)\n",
    "\n",
    "print('Net Input: \\n', Z)\n",
    "\n",
    "print('Output Units:\\n', y_probas) "
   ]
  },
  {
   "cell_type": "code",
   "execution_count": 45,
   "metadata": {},
   "outputs": [
    {
     "name": "stdout",
     "output_type": "stream",
     "text": [
      "Predicted class label: 3\n"
     ]
    }
   ],
   "source": [
    "y_class = np.argmax(Z, axis=0)\n",
    "print('Predicted class label: %d' % y_class) "
   ]
  },
  {
   "cell_type": "markdown",
   "metadata": {},
   "source": [
    "### Estimating class probabilities in multiclass classification via the softmax function"
   ]
  },
  {
   "cell_type": "code",
   "execution_count": 46,
   "metadata": {},
   "outputs": [
    {
     "name": "stdout",
     "output_type": "stream",
     "text": [
      "Probabilities:\n",
      " [0.22390377 0.17968698 0.13179087 0.46461837]\n"
     ]
    },
    {
     "data": {
      "text/plain": [
       "1.0"
      ]
     },
     "execution_count": 46,
     "metadata": {},
     "output_type": "execute_result"
    }
   ],
   "source": [
    "def softmax(z):\n",
    "    return np.exp(z) / np.sum(np.exp(z))\n",
    "\n",
    "y_probas = softmax(Z)\n",
    "print('Probabilities:\\n', y_probas)\n",
    "\n",
    "np.sum(y_probas)"
   ]
  },
  {
   "cell_type": "code",
   "execution_count": 55,
   "metadata": {},
   "outputs": [
    {
     "name": "stdout",
     "output_type": "stream",
     "text": [
      "Probabilities:\n",
      " [0.22390377 0.17968698 0.13179087 0.46461837]\n"
     ]
    },
    {
     "data": {
      "text/plain": [
       "1.0"
      ]
     },
     "execution_count": 55,
     "metadata": {},
     "output_type": "execute_result"
    }
   ],
   "source": [
    "import tensorflow as tf\n",
    "\n",
    "Z_tensor = tf.expand_dims(Z, axis=0)\n",
    "sm =tf.keras.activations.softmax(Z_tensor)\n",
    "sm[0].numpy()\n",
    "\n",
    "print('Probabilities:\\n', sm[0].numpy())\n",
    "\n",
    "np.sum(sm[0].numpy())"
   ]
  },
  {
   "cell_type": "markdown",
   "metadata": {},
   "source": [
    "### Broadening the output spectrum using a hyperbolic tangent"
   ]
  },
  {
   "cell_type": "code",
   "execution_count": 56,
   "metadata": {},
   "outputs": [
    {
     "data": {
      "image/png": "[encoded data removed]",
      "text/plain": [
       "<Figure size 432x288 with 1 Axes>"
      ]
     },
     "metadata": {
      "needs_background": "light"
     },
     "output_type": "display_data"
    }
   ],
   "source": [
    "import matplotlib.pyplot as plt\n",
    "%matplotlib inline\n",
    "\n",
    "def tanh(z):\n",
    "    e_p = np.exp(z)\n",
    "    e_m = np.exp(-z)\n",
    "    return (e_p - e_m) / (e_p + e_m)\n",
    "\n",
    "z = np.arange(-5, 5, 0.005)\n",
    "log_act = logistic(z)\n",
    "tanh_act = tanh(z)\n",
    "plt.ylim([-1.5, 1.5])\n",
    "plt.xlabel('Net input $z$')\n",
    "plt.ylabel('Activation $\\phi(z)$')\n",
    "plt.axhline(1, color='black', linestyle=':')\n",
    "plt.axhline(0.5, color='black', linestyle=':')\n",
    "plt.axhline(0, color='black', linestyle=':')\n",
    "plt.axhline(-0.5, color='black', linestyle=':')\n",
    "plt.axhline(-1, color='black', linestyle=':')\n",
    "plt.plot(z, tanh_act,\n",
    "    linewidth=3, linestyle='--',\n",
    "    label='Tanh')\n",
    "plt.plot(z, log_act,\n",
    "    linewidth=3,\n",
    "    label='Logistic')\n",
    "plt.legend(loc='lower right')\n",
    "plt.tight_layout()\n",
    "plt.show()\n"
   ]
  },
  {
   "cell_type": "code",
   "execution_count": 57,
   "metadata": {},
   "outputs": [
    {
     "data": {
      "text/plain": [
       "array([-0.9999092 , -0.99990829, -0.99990737, ...,  0.99990644,\n",
       "        0.99990737,  0.99990829])"
      ]
     },
     "execution_count": 57,
     "metadata": {},
     "output_type": "execute_result"
    }
   ],
   "source": [
    "np.tanh(z)"
   ]
  },
  {
   "cell_type": "code",
   "execution_count": 58,
   "metadata": {},
   "outputs": [
    {
     "data": {
      "text/plain": [
       "<tf.Tensor: shape=(2000,), dtype=float64, numpy=\n",
       "array([-0.9999092 , -0.99990829, -0.99990737, ...,  0.99990644,\n",
       "        0.99990737,  0.99990829])>"
      ]
     },
     "execution_count": 58,
     "metadata": {},
     "output_type": "execute_result"
    }
   ],
   "source": [
    "# import tensorflow as tf\n",
    "\n",
    "tf.keras.activations.tanh(z)"
   ]
  },
  {
   "cell_type": "code",
   "execution_count": 59,
   "metadata": {},
   "outputs": [
    {
     "data": {
      "text/plain": [
       "array([0.00669285, 0.00672617, 0.00675966, ..., 0.99320669, 0.99324034,\n",
       "       0.99327383])"
      ]
     },
     "execution_count": 59,
     "metadata": {},
     "output_type": "execute_result"
    }
   ],
   "source": [
    "# Logistic Function\n",
    "\n",
    "from scipy.special import expit\n",
    "\n",
    "expit(z)"
   ]
  },
  {
   "cell_type": "code",
   "execution_count": 60,
   "metadata": {},
   "outputs": [
    {
     "data": {
      "text/plain": [
       "<tf.Tensor: shape=(2000,), dtype=float64, numpy=\n",
       "array([0.00669285, 0.00672617, 0.00675966, ..., 0.99320669, 0.99324034,\n",
       "       0.99327383])>"
      ]
     },
     "execution_count": 60,
     "metadata": {},
     "output_type": "execute_result"
    }
   ],
   "source": [
    "# Logistic Function\n",
    "\n",
    "tf.keras.activations.sigmoid(z)"
   ]
  },
  {
   "cell_type": "markdown",
   "metadata": {},
   "source": [
    "### Rectified linear unit activation"
   ]
  },
  {
   "cell_type": "code",
   "execution_count": 61,
   "metadata": {},
   "outputs": [
    {
     "data": {
      "text/plain": [
       "<tf.Tensor: shape=(2000,), dtype=float64, numpy=array([0.   , 0.   , 0.   , ..., 4.985, 4.99 , 4.995])>"
      ]
     },
     "execution_count": 61,
     "metadata": {},
     "output_type": "execute_result"
    }
   ],
   "source": [
    "# import tensorflow as tf\n",
    "\n",
    "tf.keras.activations.relu(z)"
   ]
  },
  {
   "cell_type": "markdown",
   "metadata": {},
   "source": [
    "## Summary"
   ]
  },
  {
   "cell_type": "markdown",
   "metadata": {},
   "source": [
    "# Appendix\n",
    "\n",
    "## Splitting a dataset: danger of mixing train/test examples"
   ]
  },
  {
   "cell_type": "code",
   "execution_count": 65,
   "metadata": {},
   "outputs": [
    {
     "name": "stdout",
     "output_type": "stream",
     "text": [
      "{0, 2, 3, 4, 6, 8, 9} {1, 5, 7}\n"
     ]
    }
   ],
   "source": [
    "## the correct way:\n",
    "\n",
    "ds = tf.data.Dataset.range(10)\n",
    "ds = ds.shuffle(10, reshuffle_each_iteration=False)\n",
    "\n",
    "ds_train = ds.take(7)\n",
    "ds_test = ds.skip(7)\n",
    "\n",
    "ds_train = ds_train.shuffle(7).repeat(10)\n",
    "ds_test = ds_test.shuffle(3)\n",
    "ds_test = ds_test.repeat(10)\n",
    "\n",
    "set_train = set()\n",
    "for i,item in enumerate(ds_train):\n",
    "    set_train.add(item.numpy())\n",
    "\n",
    "set_test = set()\n",
    "for i,item in enumerate(ds_test):\n",
    "    set_test.add(item.numpy())\n",
    "\n",
    "print(set_train, set_test)"
   ]
  },
  {
   "cell_type": "code",
   "execution_count": 68,
   "metadata": {},
   "outputs": [
    {
     "name": "stdout",
     "output_type": "stream",
     "text": [
      "{0, 1, 2, 3, 4, 5, 6, 7, 8, 9} {0, 1, 2, 3, 4, 5, 6, 7, 8, 9}\n"
     ]
    }
   ],
   "source": [
    "## The wrong way:\n",
    "\n",
    "ds = tf.data.Dataset.range(10)\n",
    "ds = ds.shuffle(10, reshuffle_each_iteration=True)\n",
    "\n",
    "ds_train = ds.take(7)\n",
    "ds_test = ds.skip(7)\n",
    "\n",
    "ds_train = ds_train.shuffle(7).repeat(10)\n",
    "ds_test = ds_test.shuffle(3)\n",
    "ds_test = ds_test.repeat(10)\n",
    "\n",
    "set_train = set()\n",
    "for i,item in enumerate(ds_train):\n",
    "    set_train.add(item.numpy())\n",
    "\n",
    "set_test = set()\n",
    "for i,item in enumerate(ds_test):\n",
    "    set_test.add(item.numpy())\n",
    "\n",
    "print(set_train, set_test)"
   ]
  },
  {
   "cell_type": "markdown",
   "metadata": {},
   "source": [
    "### Splitting a dataset using `tfds.Split`"
   ]
  },
  {
   "cell_type": "code",
   "execution_count": 85,
   "metadata": {},
   "outputs": [
    {
     "name": "stdout",
     "output_type": "stream",
     "text": [
      "{'features': <tf.Tensor: shape=(4,), dtype=float32, numpy=array([5.1, 3.4, 1.5, 0.2], dtype=float32)>, 'label': <tf.Tensor: shape=(), dtype=int64, numpy=0>}\n",
      "\n",
      "{'features': <tf.Tensor: shape=(4,), dtype=float32, numpy=array([6.3, 3.4, 5.6, 2.4], dtype=float32)>, 'label': <tf.Tensor: shape=(), dtype=int64, numpy=2>}\n"
     ]
    }
   ],
   "source": [
    "\n",
    "##--------------------------- Attention ------------------------##\n",
    "##                                                              ##\n",
    "##     Note: currently, tfds.Split has a bug  in TF 2.0.0       ##\n",
    "##                                                              ##\n",
    "##  I.e., splitting [2, 1] is expected to result in             ##\n",
    "##      100 train and 50 test examples                          ##\n",
    "##                                                              ##\n",
    "##  but instead, it results in 116 train and 34 test examples   ##\n",
    "##                                                              ##\n",
    "##--------------------------------------------------------------##\n",
    "\n",
    "import tensorflow as tf\n",
    "import tensorflow_datasets as tfds\n",
    "import numpy as np\n",
    "\n",
    "##  method 1: specifying percentage:\n",
    "#first_67_percent = tfds.Split.TRAIN.subsplit(tfds.percent[:67])\n",
    "#last_33_percent = tfds.Split.TRAIN.subsplit(tfds.percent[-33:])\n",
    "\n",
    "#ds_train_orig = tfds.load('iris', split=first_67_percent)\n",
    "#ds_test = tfds.load('iris', split=last_33_percent)\n",
    "\n",
    "\n",
    "##  method 2: specifying the weights\n",
    "\n",
    "ds_train_orig = tfds.load('iris', split='train[0:100]')\n",
    "ds_test = tfds.load('iris', split='train[100:150]')\n",
    "\n",
    "print(next(iter(ds_train_orig)))\n",
    "print()\n",
    "print(next(iter(ds_test)))"
   ]
  },
  {
   "cell_type": "markdown",
   "metadata": {},
   "source": [
    "<br>\n",
    "<br>\n",
    "<br>"
   ]
  },
  {
   "cell_type": "code",
   "execution_count": 84,
   "metadata": {},
   "outputs": [
    {
     "name": "stdout",
     "output_type": "stream",
     "text": [
      "(<tf.Tensor: shape=(4,), dtype=float32, numpy=array([5.8, 2.7, 5.1, 1.9], dtype=float32)>, <tf.Tensor: shape=(), dtype=int64, numpy=2>)\n",
      "Training Set:  99 Test Set:  50\n",
      "15 16 19\n",
      "Training Set:  99 Test Set:  50\n",
      "15 16 19\n",
      "Training Set:  99 Test Set:  50\n",
      "15 16 19\n",
      "Training Set:  99 Test Set:  50\n",
      "15 16 19\n",
      "Training Set:  99 Test Set:  50\n",
      "15 16 19\n"
     ]
    }
   ],
   "source": [
    "ds_train_orig = ds_train_orig.shuffle(100, reshuffle_each_iteration=True)\n",
    "ds_test  = ds_test.shuffle(50, reshuffle_each_iteration=False)\n",
    "\n",
    "ds_train_orig = ds_train_orig.map(\n",
    "    lambda x: (x['features'], x['label']))\n",
    "\n",
    "ds_test = ds_test.map(\n",
    "    lambda x: (x['features'], x['label']))\n",
    "\n",
    "print(next(iter(ds_train_orig)))\n",
    "\n",
    "\n",
    "for j in range(5):\n",
    "    labels_train = []\n",
    "    for i,item in enumerate(ds_train_orig):\n",
    "        labels_train.append(item[1].numpy())\n",
    "\n",
    "    labels_test = []\n",
    "    for i,item in enumerate(ds_test):\n",
    "        labels_test.append(item[1].numpy())\n",
    "    print('Training Set: ',len(labels_train), 'Test Set: ', len(labels_test))\n",
    "\n",
    "    labels_test = np.array(labels_test)\n",
    "\n",
    "    print(np.sum(labels_test == 0), np.sum(labels_test == 1), np.sum(labels_test == 2))"
   ]
  },
  {
   "cell_type": "markdown",
   "metadata": {},
   "source": [
    "---\n",
    "\n",
    "Readers may ignore the next cell."
   ]
  },
  {
   "cell_type": "code",
   "execution_count": 42,
   "metadata": {},
   "outputs": [
    {
     "name": "stdout",
     "output_type": "stream",
     "text": [
      "[NbConvertApp] Converting notebook ch13_part2.ipynb to script\n",
      "[NbConvertApp] Writing 14023 bytes to ch13_part2.py\n"
     ]
    }
   ],
   "source": [
    "! python ../.convert_notebook_to_script.py --input ch13_part2.ipynb --output ch13_part2.py"
   ]
  }
 ],
 "metadata": {
  "kernelspec": {
   "display_name": "Python 3.8.5 64-bit ('deep': conda)",
   "language": "python",
   "name": "python38564bitdeepconda1f145d0de5544abc80c383a418c49c62"
  },
  "language_info": {
   "codemirror_mode": {
    "name": "ipython",
    "version": 3
   },
   "file_extension": ".py",
   "mimetype": "text/x-python",
   "name": "python",
   "nbconvert_exporter": "python",
   "pygments_lexer": "ipython3",
   "version": "3.8.5"
  },
  "toc-showmarkdowntxt": false,
  "toc-showtags": false
 },
 "nbformat": 4,
 "nbformat_minor": 4
}
