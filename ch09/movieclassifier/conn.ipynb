{
 "cells": [
  {
   "cell_type": "code",
   "execution_count": 3,
   "metadata": {},
   "outputs": [
    {
     "data": {
      "text/plain": [
       "<sqlite3.Cursor at 0x7fc681fafab0>"
      ]
     },
     "execution_count": 3,
     "metadata": {},
     "output_type": "execute_result"
    }
   ],
   "source": [
    "import sqlite3\n",
    "import os\n",
    "\n",
    "conn = sqlite3.connect('reviews.sqlite')\n",
    "c = conn.cursor()\n",
    "\n",
    "c.execute('drop table if exists review_db')\n",
    "c.execute('create table review_db'\\\n",
    "          '(review text, sentiment integer, date text)')"
   ]
  },
  {
   "cell_type": "code",
   "execution_count": 7,
   "metadata": {},
   "outputs": [],
   "source": [
    "example1 = 'I love this movie, Cage is my favorite actor'\n",
    "c.execute('insert into review_db'\\\n",
    "          '(review, sentiment, date) values'\\\n",
    "         '(?, ?, datetime(\"now\"))', (example1, 1))\n",
    "\n",
    "example2 = 'I dont like the following movies, they are boring and start late at night'\n",
    "c.execute('insert into review_db'\\\n",
    "          '(review, sentiment, date) values'\\\n",
    "         '(?, ?, datetime(\"now\"))', (example2, 0))\n",
    "\n",
    "conn.commit()\n",
    "conn.close()"
   ]
  },
  {
   "cell_type": "code",
   "execution_count": 11,
   "metadata": {},
   "outputs": [
    {
     "name": "stdout",
     "output_type": "stream",
     "text": [
      "[('I love this movie, Cage is my favorite actor', 1, '2021-01-04 19:32:59'), ('I love this movie, Cage is my favorite actor', 1, '2021-01-04 19:34:27'), ('I dont like the following movies, they are boring and start late at night', 0, '2021-01-04 19:34:27')]\n"
     ]
    }
   ],
   "source": [
    "conn = sqlite3.connect('reviews.sqlite')\n",
    "c = conn.cursor()\n",
    "c.execute('select * from review_db where date'\\\n",
    "         \" between '2017-01-01' and datetime('now')\")\n",
    "\n",
    "results = c.fetchall()\n",
    "conn.close()\n",
    "print(results)"
   ]
  },
  {
   "cell_type": "code",
   "execution_count": null,
   "metadata": {},
   "outputs": [],
   "source": []
  }
 ],
 "metadata": {
  "kernelspec": {
   "display_name": "Python 3.8.5 64-bit ('deep': conda)",
   "language": "python",
   "name": "python38564bitdeepconda1f145d0de5544abc80c383a418c49c62"
  },
  "language_info": {
   "codemirror_mode": {
    "name": "ipython",
    "version": 3
   },
   "file_extension": ".py",
   "mimetype": "text/x-python",
   "name": "python",
   "nbconvert_exporter": "python",
   "pygments_lexer": "ipython3",
   "version": "3.8.5"
  }
 },
 "nbformat": 4,
 "nbformat_minor": 4
}
